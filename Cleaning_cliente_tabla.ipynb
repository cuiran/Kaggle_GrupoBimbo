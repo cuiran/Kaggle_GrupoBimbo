{
 "cells": [
  {
   "cell_type": "markdown",
   "metadata": {},
   "source": [
    "# Load Library and Data"
   ]
  },
  {
   "cell_type": "code",
   "execution_count": 165,
   "metadata": {
    "collapsed": false
   },
   "outputs": [],
   "source": [
    "library(plyr)\n",
    "library(Rcpp)\n",
    "library(IRdisplay)"
   ]
  },
  {
   "cell_type": "markdown",
   "metadata": {},
   "source": [
    "# Initial Examination"
   ]
  },
  {
   "cell_type": "code",
   "execution_count": 166,
   "metadata": {
    "collapsed": false
   },
   "outputs": [
    {
     "name": "stdout",
     "output_type": "stream",
     "text": [
      "[1] \"list\"\n",
      "  Cliente_ID                           NombreCliente\n",
      "1          0                              SIN NOMBRE\n",
      "2          1                        OXXO XINANTECATL\n",
      "3          2                              SIN NOMBRE\n",
      "4          3                               EL MORENO\n",
      "5          4 SDN SER  DE ALIM  CUERPO SA CIA  DE INT\n",
      "6          4    SDN SER DE ALIM CUERPO SA CIA DE INT\n"
     ]
    }
   ],
   "source": [
    "clientdf <- read.csv('cliente_tabla.csv', header = T)\n",
    "print(typeof(clientdf))\n",
    "print(head(clientdf))"
   ]
  },
  {
   "cell_type": "code",
   "execution_count": 167,
   "metadata": {
    "collapsed": false
   },
   "outputs": [
    {
     "name": "stdout",
     "output_type": "stream",
     "text": [
      "[1] 935362\n"
     ]
    }
   ],
   "source": [
    "print(nrow(clientdf))"
   ]
  },
  {
   "cell_type": "markdown",
   "metadata": {},
   "source": [
    "# Cleaning"
   ]
  },
  {
   "cell_type": "markdown",
   "metadata": {},
   "source": [
    "## Duplicated ID"
   ]
  },
  {
   "cell_type": "code",
   "execution_count": 168,
   "metadata": {
    "collapsed": true
   },
   "outputs": [],
   "source": [
    "IDcounts <- as.data.frame(count(clientdf, 'Cliente_ID'))"
   ]
  },
  {
   "cell_type": "markdown",
   "metadata": {},
   "source": [
    "ID counts is a table with Cliente_ID and how many times an ID appears in the table. You can see that Cliente_ID 4 appeared twice and the NombreCliente are the basically the same save the length of some white space. \n",
    "\n",
    "I'll single out the duplicated ones and see if they all have the same symptom."
   ]
  },
  {
   "cell_type": "code",
   "execution_count": 169,
   "metadata": {
    "collapsed": false
   },
   "outputs": [
    {
     "name": "stdout",
     "output_type": "stream",
     "text": [
      "  Cliente_ID freq\n",
      "1          0    1\n",
      "2          1    1\n",
      "3          2    1\n",
      "4          3    1\n",
      "5          4    2\n",
      "6          5    1\n"
     ]
    }
   ],
   "source": [
    "print(head(IDcounts))"
   ]
  },
  {
   "cell_type": "code",
   "execution_count": 170,
   "metadata": {
    "collapsed": false
   },
   "outputs": [
    {
     "name": "stdout",
     "output_type": "stream",
     "text": [
      "    Cliente_ID freq\n",
      "5            4    2\n",
      "62         262    2\n",
      "63         465    2\n",
      "77        1589    2\n",
      "94        2033    2\n",
      "403       2858    2\n",
      "[1] 4862\n"
     ]
    }
   ],
   "source": [
    "duplicateID <- IDcounts[IDcounts$freq > 1,]\n",
    "print(head(duplicateID))\n",
    "print(nrow(duplicateID))"
   ]
  },
  {
   "cell_type": "markdown",
   "metadata": {},
   "source": [
    "## Also Duplicated Name?"
   ]
  },
  {
   "cell_type": "markdown",
   "metadata": {},
   "source": [
    "So there are 4862 of them and I'm not sure if I can examin them all and make sure they represent duplicated client names...\n",
    "\n",
    "OK, since the problem are the white space, I'll just get rid of them. I can't read Spanish anyways, so with or without space doesn't really matter...\n",
    "\n",
    "Create another column named 'LinkedName' to store the NombreCliente without white spaces"
   ]
  },
  {
   "cell_type": "code",
   "execution_count": 171,
   "metadata": {
    "collapsed": true
   },
   "outputs": [],
   "source": [
    "clientdf$LinkedName <- gsub('[ ]',\"\", clientdf$NombreCliente)"
   ]
  },
  {
   "cell_type": "code",
   "execution_count": 172,
   "metadata": {
    "collapsed": false
   },
   "outputs": [
    {
     "name": "stdout",
     "output_type": "stream",
     "text": [
      "  Cliente_ID                           NombreCliente\n",
      "1          0                              SIN NOMBRE\n",
      "2          1                        OXXO XINANTECATL\n",
      "3          2                              SIN NOMBRE\n",
      "4          3                               EL MORENO\n",
      "5          4 SDN SER  DE ALIM  CUERPO SA CIA  DE INT\n",
      "6          4    SDN SER DE ALIM CUERPO SA CIA DE INT\n",
      "                    LinkedName\n",
      "1                    SINNOMBRE\n",
      "2              OXXOXINANTECATL\n",
      "3                    SINNOMBRE\n",
      "4                     ELMORENO\n",
      "5 SDNSERDEALIMCUERPOSACIADEINT\n",
      "6 SDNSERDEALIMCUERPOSACIADEINT\n"
     ]
    }
   ],
   "source": [
    "print(head(clientdf))"
   ]
  },
  {
   "cell_type": "markdown",
   "metadata": {},
   "source": [
    "Now let's find the duplicated names"
   ]
  },
  {
   "cell_type": "code",
   "execution_count": 173,
   "metadata": {
    "collapsed": true
   },
   "outputs": [],
   "source": [
    "NameCount <- as.data.frame(count(clientdf, 'LinkedName'))\n",
    "duplicateName <- NameCount[NameCount$freq > 1,]"
   ]
  },
  {
   "cell_type": "code",
   "execution_count": 174,
   "metadata": {
    "collapsed": false
   },
   "outputs": [
    {
     "name": "stdout",
     "output_type": "stream",
     "text": [
      "   LinkedName freq\n",
      "12 100NATURAL    2\n",
      "35  10DEABRIL    4\n",
      "36  10DEJUNIO    2\n",
      "37   10DEMAYO   10\n",
      "40 10HERMANOS    3\n",
      "44     10UNOS    3\n",
      "[1] 39251\n"
     ]
    }
   ],
   "source": [
    "print(head(duplicateName))\n",
    "print(nrow(duplicateName))"
   ]
  },
  {
   "cell_type": "markdown",
   "metadata": {},
   "source": [
    "There are way more duplicated linked names than I expected! 10DEMAYO appeared 10 times???"
   ]
  },
  {
   "cell_type": "code",
   "execution_count": 175,
   "metadata": {
    "collapsed": false
   },
   "outputs": [
    {
     "name": "stdout",
     "output_type": "stream",
     "text": [
      "       Cliente_ID NombreCliente LinkedName\n",
      "123896     306967    10 DE MAYO   10DEMAYO\n",
      "168701     432945    10 DE MAYO   10DEMAYO\n",
      "203554     552012    10 DE MAYO   10DEMAYO\n",
      "222110     610732    10 DE MAYO   10DEMAYO\n",
      "333161    1177132    10 DE MAYO   10DEMAYO\n",
      "340042    1212036    10 DE MAYO   10DEMAYO\n",
      "380568    1442870    10 DE MAYO   10DEMAYO\n",
      "496514    2041456    10 DE MAYO   10DEMAYO\n",
      "915659    7737767    10 DE MAYO   10DEMAYO\n",
      "934869    9708580    10 DE MAYO   10DEMAYO\n"
     ]
    }
   ],
   "source": [
    "print(clientdf[clientdf$LinkedName == '10DEMAYO',])"
   ]
  },
  {
   "cell_type": "markdown",
   "metadata": {},
   "source": [
    "Werid, their ID are different but their name are the same, I wonder if their demands are the same too.\n",
    "Here is the data for ClienteID == 306967 in week 3:"
   ]
  },
  {
   "cell_type": "code",
   "execution_count": 176,
   "metadata": {
    "collapsed": false
   },
   "outputs": [
    {
     "data": {
      "image/png": "[encoded data removed]"
     },
     "metadata": {},
     "output_type": "display_data"
    },
    {
     "data": {
      "image/png": "[encoded data removed]"
     },
     "metadata": {},
     "output_type": "display_data"
    }
   ],
   "source": [
    "display_png(file = \"306967week3.png\")\n",
    "display_png(file=\"432945week3.png\")"
   ]
  },
  {
   "cell_type": "markdown",
   "metadata": {},
   "source": [
    "They are clearly different! "
   ]
  },
  {
   "cell_type": "markdown",
   "metadata": {},
   "source": [
    "# Cleaning up"
   ]
  },
  {
   "cell_type": "markdown",
   "metadata": {},
   "source": [
    "Let's first deal with the duplicated ID, write a for loop based on the duplicatedID, if the corresponding LinkedName in clientdf are the same then we delete the second accurence of the clientID along with that whole row."
   ]
  },
  {
   "cell_type": "code",
   "execution_count": 177,
   "metadata": {
    "collapsed": true
   },
   "outputs": [],
   "source": [
    "# # Create a column indicate duplicate or not\n",
    "# clientdf$Duplicate <- FALSE"
   ]
  },
  {
   "cell_type": "code",
   "execution_count": 178,
   "metadata": {
    "collapsed": false
   },
   "outputs": [],
   "source": [
    "# for (id in duplicateID$Cliente_ID){\n",
    "#     # print(id)\n",
    "#     idx1 = which(clientdf$Cliente_ID == id)[1] # Get the index of the first occurrence of this Cliente_ID\n",
    "#     idx2 = which(clientdf$Cliente_ID == id)[2] # Get the index of the second occurrence of this Cliente_ID \n",
    "#     if ((clientdf[idx1,c('LinkedName')] == clientdf[idx2,c('LinkedName')]) & \n",
    "#         (id %in% clientdf$Cliente_ID))\n",
    "#         # Check if their corresponding LinkedName are the same\n",
    "        \n",
    "#         # If same, then assign TRUE to the Duplicate column of the first occurrence\n",
    "#         clientdf[idx1,c('Duplicate')] = TRUE\n",
    "    \n",
    "# }\n",
    "# # This took a long time, I will improve it later.\n",
    "# print(head(clientdf))"
   ]
  },
  {
   "cell_type": "code",
   "execution_count": 179,
   "metadata": {
    "collapsed": true
   },
   "outputs": [],
   "source": [
    "# clientdf_rem_dupID <- clientdf[!clientdf$Duplicate,]"
   ]
  },
  {
   "cell_type": "code",
   "execution_count": 180,
   "metadata": {
    "collapsed": false
   },
   "outputs": [],
   "source": [
    "# print(head(clientdf_rem_dupID))"
   ]
  },
  {
   "cell_type": "code",
   "execution_count": 181,
   "metadata": {
    "collapsed": false
   },
   "outputs": [],
   "source": [
    "# clientdf_rem_dupID$Duplicate <- NULL\n",
    "# clientdf_rem_dupID$LinkedName <- NULL\n",
    "# clientdf_rem_dupID <- clientdf_rem_dupID[c('Cliente_ID', 'NombreCliente')]\n",
    "# print(head(clientdf_rem_dupID))"
   ]
  },
  {
   "cell_type": "markdown",
   "metadata": {},
   "source": [
    "The for loop too a long time. For practical purposes, we'll just delete the duplicates of all rows that has duplicate Cliente_ID."
   ]
  },
  {
   "cell_type": "code",
   "execution_count": 182,
   "metadata": {
    "collapsed": false
   },
   "outputs": [],
   "source": [
    "# Take the row names of the data frame duplicateID\n",
    "idx_duplicateID <- as.list(row.names(duplicateID))\n",
    "# Delete the corresponding rows\n",
    "cliente_tabla_remDupID <- clientdf[!rownames(clientdf) %in% idx_duplicateID,c('Cliente_ID', 'NombreCliente')]"
   ]
  },
  {
   "cell_type": "markdown",
   "metadata": {},
   "source": [
    "# Write clientdf_rem_dupID to CSV"
   ]
  },
  {
   "cell_type": "code",
   "execution_count": 183,
   "metadata": {
    "collapsed": true
   },
   "outputs": [],
   "source": [
    "write.csv(cliente_tabla_remDupID, \"cliente_tabla_remDupID.csv\", row.names = FALSE)"
   ]
  }
 ],
 "metadata": {
  "kernelspec": {
   "display_name": "R",
   "language": "R",
   "name": "ir"
  },
  "language_info": {
   "codemirror_mode": "r",
   "file_extension": ".r",
   "mimetype": "text/x-r-source",
   "name": "R",
   "pygments_lexer": "r",
   "version": "3.2.2"
  }
 },
 "nbformat": 4,
 "nbformat_minor": 0
}
