{
 "cells": [
  {
   "cell_type": "markdown",
   "metadata": {},
   "source": [
    "# Load Library and town_state_csv"
   ]
  },
  {
   "cell_type": "code",
   "execution_count": 6,
   "metadata": {
    "collapsed": true
   },
   "outputs": [],
   "source": [
    "library(plyr)\n",
    "library(Rcpp)"
   ]
  },
  {
   "cell_type": "code",
   "execution_count": 2,
   "metadata": {
    "collapsed": true
   },
   "outputs": [],
   "source": [
    "town <- read.csv(\"town_state.csv\")"
   ]
  },
  {
   "cell_type": "markdown",
   "metadata": {},
   "source": [
    "# Initial Examination"
   ]
  },
  {
   "cell_type": "code",
   "execution_count": 3,
   "metadata": {
    "collapsed": false,
    "scrolled": true
   },
   "outputs": [
    {
     "name": "stdout",
     "output_type": "stream",
     "text": [
      "  Agencia_ID                  Town            State\n",
      "1       1110    2008 AG. LAGO FILT     MÉXICO, D.F.\n",
      "2       1111 2002 AG. AZCAPOTZALCO     MÉXICO, D.F.\n",
      "3       1112   2004 AG. CUAUTITLAN ESTADO DE MÉXICO\n",
      "4       1113    2008 AG. LAGO FILT     MÉXICO, D.F.\n",
      "5       1114  2029 AG.IZTAPALAPA 2     MÉXICO, D.F.\n",
      "6       1116  2011 AG. SAN ANTONIO     MÉXICO, D.F.\n"
     ]
    }
   ],
   "source": [
    "print(head(town))"
   ]
  },
  {
   "cell_type": "code",
   "execution_count": 27,
   "metadata": {
    "collapsed": false
   },
   "outputs": [
    {
     "name": "stdout",
     "output_type": "stream",
     "text": [
      "[1] 790\n"
     ]
    }
   ],
   "source": [
    "print(nrow(town))"
   ]
  },
  {
   "cell_type": "markdown",
   "metadata": {},
   "source": [
    "# Town and State Names"
   ]
  },
  {
   "cell_type": "code",
   "execution_count": 23,
   "metadata": {
    "collapsed": false
   },
   "outputs": [
    {
     "name": "stdout",
     "output_type": "stream",
     "text": [
      "[1] 260\n"
     ]
    }
   ],
   "source": [
    "print(length(unique(town$Town)))"
   ]
  },
  {
   "cell_type": "code",
   "execution_count": 25,
   "metadata": {
    "collapsed": false
   },
   "outputs": [
    {
     "name": "stdout",
     "output_type": "stream",
     "text": [
      "[1] 33\n"
     ]
    }
   ],
   "source": [
    "print(length(unique(town$State)))"
   ]
  },
  {
   "cell_type": "markdown",
   "metadata": {},
   "source": [
    "## Get rid of the whitespace"
   ]
  },
  {
   "cell_type": "code",
   "execution_count": 14,
   "metadata": {
    "collapsed": false
   },
   "outputs": [],
   "source": [
    "# Create a column \"LinkedTownName\" represent the Town names without the spaces \n",
    "town$LinkedTownName <- gsub('[^0-9a-zA-Z]',\"\", town$Town)\n",
    "# Create a column \"LinkedStateName\" represent the State names without the spaces \n",
    "town$LinkedStateName <- gsub('[^0-9a-zA-Z]',\"\", town$State)"
   ]
  },
  {
   "cell_type": "code",
   "execution_count": 15,
   "metadata": {
    "collapsed": false
   },
   "outputs": [
    {
     "name": "stdout",
     "output_type": "stream",
     "text": [
      "  Agencia_ID                  Town            State     LinkedTownName\n",
      "1       1110    2008 AG. LAGO FILT     MÉXICO, D.F.     2008AGLAGOFILT\n",
      "2       1111 2002 AG. AZCAPOTZALCO     MÉXICO, D.F. 2002AGAZCAPOTZALCO\n",
      "3       1112   2004 AG. CUAUTITLAN ESTADO DE MÉXICO   2004AGCUAUTITLAN\n",
      "4       1113    2008 AG. LAGO FILT     MÉXICO, D.F.     2008AGLAGOFILT\n",
      "5       1114  2029 AG.IZTAPALAPA 2     MÉXICO, D.F.  2029AGIZTAPALAPA2\n",
      "6       1116  2011 AG. SAN ANTONIO     MÉXICO, D.F.   2011AGSANANTONIO\n",
      "  LinkedStateName                       Town_State\n",
      "1         MXICODF      2008AG.LAGOFILT_MÉXICO,D.F.\n",
      "2         MXICODF  2002AG.AZCAPOTZALCO_MÉXICO,D.F.\n",
      "3   ESTADODEMXICO 2004AG.CUAUTITLAN_ESTADODEMÉXICO\n",
      "4         MXICODF      2008AG.LAGOFILT_MÉXICO,D.F.\n",
      "5         MXICODF   2029AG.IZTAPALAPA2_MÉXICO,D.F.\n",
      "6         MXICODF    2011AG.SANANTONIO_MÉXICO,D.F.\n"
     ]
    }
   ],
   "source": [
    "print(head(town))"
   ]
  },
  {
   "cell_type": "markdown",
   "metadata": {},
   "source": [
    "## Joint the town name and state names seperate with \"_\""
   ]
  },
  {
   "cell_type": "code",
   "execution_count": 16,
   "metadata": {
    "collapsed": true
   },
   "outputs": [],
   "source": [
    "town$Town_State <- paste(town$LinkedTownName, town$LinkedStateName, sep = \"_\")"
   ]
  },
  {
   "cell_type": "code",
   "execution_count": 17,
   "metadata": {
    "collapsed": false
   },
   "outputs": [
    {
     "name": "stdout",
     "output_type": "stream",
     "text": [
      "  Agencia_ID                  Town            State     LinkedTownName\n",
      "1       1110    2008 AG. LAGO FILT     MÉXICO, D.F.     2008AGLAGOFILT\n",
      "2       1111 2002 AG. AZCAPOTZALCO     MÉXICO, D.F. 2002AGAZCAPOTZALCO\n",
      "3       1112   2004 AG. CUAUTITLAN ESTADO DE MÉXICO   2004AGCUAUTITLAN\n",
      "4       1113    2008 AG. LAGO FILT     MÉXICO, D.F.     2008AGLAGOFILT\n",
      "5       1114  2029 AG.IZTAPALAPA 2     MÉXICO, D.F.  2029AGIZTAPALAPA2\n",
      "6       1116  2011 AG. SAN ANTONIO     MÉXICO, D.F.   2011AGSANANTONIO\n",
      "  LinkedStateName                     Town_State\n",
      "1         MXICODF         2008AGLAGOFILT_MXICODF\n",
      "2         MXICODF     2002AGAZCAPOTZALCO_MXICODF\n",
      "3   ESTADODEMXICO 2004AGCUAUTITLAN_ESTADODEMXICO\n",
      "4         MXICODF         2008AGLAGOFILT_MXICODF\n",
      "5         MXICODF      2029AGIZTAPALAPA2_MXICODF\n",
      "6         MXICODF       2011AGSANANTONIO_MXICODF\n"
     ]
    }
   ],
   "source": [
    "print(head(town))"
   ]
  },
  {
   "cell_type": "code",
   "execution_count": 26,
   "metadata": {
    "collapsed": false
   },
   "outputs": [
    {
     "name": "stdout",
     "output_type": "stream",
     "text": [
      "[1] 261\n"
     ]
    }
   ],
   "source": [
    "print(length(unique(town$Town_State)))"
   ]
  },
  {
   "cell_type": "markdown",
   "metadata": {},
   "source": [
    "## Create index for unique towns"
   ]
  },
  {
   "cell_type": "code",
   "execution_count": 32,
   "metadata": {
    "collapsed": true
   },
   "outputs": [],
   "source": [
    "# Create a data frame with index and the unique town names\n",
    "town_idx <- data.frame( c(1:261), unique(town$Town_State))\n",
    "colnames(town_idx) <- c('idx', 'Town_State')"
   ]
  },
  {
   "cell_type": "code",
   "execution_count": 35,
   "metadata": {
    "collapsed": true
   },
   "outputs": [],
   "source": [
    "# Create another column in town data frame to map the town_state names into numbers\n",
    "town$town_idx <- mapvalues(town$Town_State, from= as.vector(town_idx$Town_State), to = as.vector(town_idx$idx))"
   ]
  },
  {
   "cell_type": "markdown",
   "metadata": {},
   "source": [
    "# Write to CSV Agency & Town Index"
   ]
  },
  {
   "cell_type": "code",
   "execution_count": null,
   "metadata": {
    "collapsed": true
   },
   "outputs": [],
   "source": [
    "agencia_town_id"
   ]
  }
 ],
 "metadata": {
  "kernelspec": {
   "display_name": "R",
   "language": "R",
   "name": "ir"
  },
  "language_info": {
   "codemirror_mode": "r",
   "file_extension": ".r",
   "mimetype": "text/x-r-source",
   "name": "R",
   "pygments_lexer": "r",
   "version": "3.2.2"
  }
 },
 "nbformat": 4,
 "nbformat_minor": 0
}
